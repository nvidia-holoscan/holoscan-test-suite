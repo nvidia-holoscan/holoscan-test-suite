{
 "cells": [
  {
   "cell_type": "code",
   "execution_count": null,
   "id": "7395ce32",
   "metadata": {},
   "outputs": [],
   "source": [
    "import cv2\n",
    "import matplotlib\n",
    "from matplotlib import pyplot\n",
    "import numpy as np"
   ]
  },
  {
   "cell_type": "code",
   "execution_count": null,
   "id": "8f8084c0",
   "metadata": {},
   "outputs": [],
   "source": [
    "test_image_rgb = cv2.imread(\"test_image.png\")\n",
    "test_image = cv2.cvtColor(test_image_rgb, cv2.COLOR_RGB2BGRA)\n",
    "pyplot.imshow(test_image)\n",
    "test_image.shape"
   ]
  },
  {
   "cell_type": "code",
   "execution_count": null,
   "id": "35aa8bf7",
   "metadata": {},
   "outputs": [],
   "source": [
    "f=open(\"video.raw\", \"rb\")"
   ]
  },
  {
   "cell_type": "code",
   "execution_count": null,
   "id": "64d48bba",
   "metadata": {},
   "outputs": [],
   "source": [
    "bytes_per_pixel = 4\n",
    "pixels_per_line = 1920\n",
    "lines_per_image = 1080\n",
    "pixels_per_image = pixels_per_line * lines_per_image\n",
    "bytes_per_line = pixels_per_line * bytes_per_pixel\n",
    "bytes_per_image = bytes_per_pixel * pixels_per_image\n",
    "frames_per_second = 60"
   ]
  },
  {
   "cell_type": "code",
   "execution_count": null,
   "id": "529e95bf",
   "metadata": {},
   "outputs": [],
   "source": [
    "f.seek(0, 2)\n",
    "total_recorded_bytes = f.tell()\n",
    "total_recorded_frames = total_recorded_bytes / bytes_per_image\n",
    "total_recorded_bytes, total_recorded_frames"
   ]
  },
  {
   "cell_type": "code",
   "execution_count": null,
   "id": "a5148ab4",
   "metadata": {},
   "outputs": [],
   "source": [
    "# first frame\n",
    "f.seek(0)\n",
    "# data is BGRA\n",
    "np_raw_data = np.fromfile(f, dtype=np.uint8, count=bytes_per_image)\n",
    "first_acquired_image = np_raw_data.reshape(lines_per_image, pixels_per_line, bytes_per_pixel)\n",
    "pyplot.imshow(first_acquired_image)"
   ]
  },
  {
   "cell_type": "code",
   "execution_count": null,
   "id": "da134c72",
   "metadata": {},
   "outputs": [],
   "source": [
    "# last frame\n",
    "last_whole_frame = int(total_recorded_frames)-1\n",
    "f.seek(bytes_per_image * last_whole_frame)\n",
    "# data is BGRA\n",
    "np_raw_data = np.fromfile(f, dtype=np.uint8, count=bytes_per_image)\n",
    "last_acquired_image = np_raw_data.reshape(lines_per_image, pixels_per_line, bytes_per_pixel)\n",
    "pyplot.imshow(last_acquired_image)"
   ]
  },
  {
   "cell_type": "code",
   "execution_count": null,
   "id": "c4d06b7e",
   "metadata": {},
   "outputs": [],
   "source": [
    "diff = cv2.absdiff(test_image, last_acquired_image)"
   ]
  },
  {
   "cell_type": "code",
   "execution_count": null,
   "id": "fd825581",
   "metadata": {},
   "outputs": [],
   "source": [
    "diff[:,:,3]=255\n",
    "gray_diff = cv2.cvtColor(diff, cv2.COLOR_BGRA2GRAY)\n",
    "pyplot.imshow(gray_diff)"
   ]
  },
  {
   "cell_type": "code",
   "execution_count": null,
   "id": "172ebbab",
   "metadata": {},
   "outputs": [],
   "source": [
    "d=np.count_nonzero(gray_diff)\n",
    "percent = (d / pixels_per_image) * 100.0\n",
    "d, pixels_per_image, \"%.2f%%\" % percent"
   ]
  }
 ],
 "metadata": {
  "kernelspec": {
   "display_name": "Python 3 (ipykernel)",
   "language": "python",
   "name": "python3"
  },
  "language_info": {
   "codemirror_mode": {
    "name": "ipython",
    "version": 3
   },
   "file_extension": ".py",
   "mimetype": "text/x-python",
   "name": "python",
   "nbconvert_exporter": "python",
   "pygments_lexer": "ipython3",
   "version": "3.8.10"
  }
 },
 "nbformat": 4,
 "nbformat_minor": 5
}
